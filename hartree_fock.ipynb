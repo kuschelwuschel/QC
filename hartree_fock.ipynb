{
 "cells": [
  {
   "cell_type": "markdown",
   "id": "af259bf3-2933-4c03-9485-f4e2634bf87a",
   "metadata": {},
   "source": [
    "The molecular Hamilton operator in second quantization can be derived as\n",
    "\n",
    "$$ \\hat{H} = \\sum_{p,q}h_{p,q}\\,a_p\\,a^{\\dagger}_q \\, +\\, \\frac{1}{2}\\sum_{p,q,r,s}h_{p,q,r,s}\\,a^{\\dagger}_p\\,a^{\\dagger}_q a_r \\,a_s\\,, $$\n",
    "\n",
    "\n",
    "\n",
    "\n",
    "\n"
   ]
  },
  {
   "cell_type": "code",
   "execution_count": null,
   "id": "5af66e2f-b791-43be-b908-adfdb3123852",
   "metadata": {},
   "outputs": [],
   "source": []
  },
  {
   "cell_type": "code",
   "execution_count": null,
   "id": "4788a8b8-7d4b-4fea-8a1e-d82370f7d01e",
   "metadata": {},
   "outputs": [],
   "source": []
  }
 ],
 "metadata": {
  "kernelspec": {
   "display_name": "Python 3",
   "language": "python",
   "name": "python3"
  },
  "language_info": {
   "codemirror_mode": {
    "name": "ipython",
    "version": 3
   },
   "file_extension": ".py",
   "mimetype": "text/x-python",
   "name": "python",
   "nbconvert_exporter": "python",
   "pygments_lexer": "ipython3",
   "version": "3.6.9"
  }
 },
 "nbformat": 4,
 "nbformat_minor": 5
}
"ci"
